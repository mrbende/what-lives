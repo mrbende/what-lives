{
 "cells": [
  {
   "cell_type": "code",
   "execution_count": null,
   "id": "8a7b32f5-f9d6-4e84-b424-24088b82e961",
   "metadata": {
    "tags": []
   },
   "outputs": [],
   "source": [
    "import json, re, os\n",
    "import sys\n",
    "import pandas as pd\n",
    "import numpy as np\n",
    "import asyncio\n",
    "import nest_asyncio\n",
    "from tqdm.notebook import tqdm\n",
    "\n",
    "nest_asyncio.apply()\n",
    "sys.path.append(\"/workspace/what-lives/src\")\n",
    "\n",
    "from inference import Inference\n",
    "from what_lives import WhatLives\n",
    "from multimodel_analysis import multi_model_analysis"
   ]
  },
  {
   "cell_type": "code",
   "execution_count": null,
   "id": "e2b91596-792c-4d98-9b86-0718564ca8dd",
   "metadata": {
    "tags": []
   },
   "outputs": [],
   "source": [
    "### ESTABLISH LLM INFERENCE ###\n",
    "\n",
    "inference = Inference()"
   ]
  },
  {
   "cell_type": "code",
   "execution_count": null,
   "id": "497fdcf0-baf7-43da-9212-e9e862cb09ce",
   "metadata": {
    "tags": []
   },
   "outputs": [],
   "source": [
    "###########################\n",
    "### WHAT LIVES ANALYSIS ###\n",
    "###########################\n",
    "\n",
    "### INITIALIZE PARAMETERS\n",
    "whatlives = WhatLives(\n",
    "    inference=inference,\n",
    "    model=\"Anthropic Claude 3.7 Sonnet\", \n",
    "    n_max=None,\n",
    "    semaphore_limit=9,\n",
    "    n_replicates=3\n",
    ")\n",
    "\n",
    "### EXECUTE ANALYSIS\n",
    "whatlives.analyze_definitions()\n",
    "\n",
    "### available models are the following:\n",
    "# - GPT-4o\n",
    "# - GPT-4o-mini\n",
    "# - Llama 3.3 Instruct 70B\n",
    "# - Anthropic Claude 3.7 Sonnet\n",
    "# - Anthropic Claude 3.5 Sonnet\n",
    "# - Anthropic Claude 3.5 Haiku"
   ]
  },
  {
   "cell_type": "code",
   "execution_count": null,
   "id": "bc5746e1-5e4f-4a94-86a4-561ae8c62948",
   "metadata": {},
   "outputs": [],
   "source": [
    "############################\n",
    "### MULTI-MODEL ANALYSIS ###\n",
    "############################\n",
    "\n",
    "# wl_multi, avg_matrix, cluster_assignments, color_map = multi_model_analysis(wl)"
   ]
  },
  {
   "cell_type": "code",
   "execution_count": null,
   "id": "2e1ab261-155a-400e-8b15-7838c06e3bc1",
   "metadata": {},
   "outputs": [],
   "source": []
  },
  {
   "cell_type": "code",
   "execution_count": null,
   "id": "5d9b4735-6bff-48b2-9ca0-07237db06b6c",
   "metadata": {},
   "outputs": [],
   "source": []
  },
  {
   "cell_type": "code",
   "execution_count": null,
   "id": "b1473e52-d18e-4b23-bde1-280b0b408289",
   "metadata": {},
   "outputs": [],
   "source": []
  }
 ],
 "metadata": {
  "kernelspec": {
   "display_name": "Python 3 (ipykernel)",
   "language": "python",
   "name": "python3"
  },
  "language_info": {
   "codemirror_mode": {
    "name": "ipython",
    "version": 3
   },
   "file_extension": ".py",
   "mimetype": "text/x-python",
   "name": "python",
   "nbconvert_exporter": "python",
   "pygments_lexer": "ipython3",
   "version": "3.12.10"
  }
 },
 "nbformat": 4,
 "nbformat_minor": 5
}
